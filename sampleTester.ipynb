{
 "cells": [
  {
   "cell_type": "code",
   "execution_count": 81,
   "metadata": {},
   "outputs": [
    {
     "name": "stdout",
     "output_type": "stream",
     "text": [
      "What's the total population? - 500\n",
      "What's the population with a specific parameter? - 200\n",
      "How large should the sample be? - 20\n",
      "How many total trials? - 20\n"
     ]
    }
   ],
   "source": [
    "import random\n",
    "import seaborn as sns\n",
    "import numpy as np\n",
    "%matplotlib inline\n",
    "\n",
    "population = float(input(\"What's the total population? - \"))\n",
    "parameterPop = float(input(\"What's the population with a specific parameter? - \"))\n",
    "sampleSize = input(\"How large should the sample be? - \")\n",
    "trials = input(\"How many total trials? - \")\n",
    "\n",
    "parameterProbability = parameterPop/population\n",
    "probabilities = []"
   ]
  },
  {
   "cell_type": "code",
   "execution_count": 82,
   "metadata": {},
   "outputs": [
    {
     "name": "stdout",
     "output_type": "stream",
     "text": [
      "Trial 1: 0.5\n",
      "Trial 2: 0.5\n",
      "Trial 3: 0.45\n",
      "Trial 4: 0.35\n",
      "Trial 5: 0.3\n",
      "Trial 6: 0.45\n",
      "Trial 7: 0.2\n",
      "Trial 8: 0.5\n",
      "Trial 9: 0.65\n",
      "Trial 10: 0.35\n",
      "Trial 11: 0.4\n",
      "Trial 12: 0.4\n",
      "Trial 13: 0.2\n",
      "Trial 14: 0.4\n",
      "Trial 15: 0.5\n",
      "Trial 16: 0.3\n",
      "Trial 17: 0.25\n",
      "Trial 18: 0.35\n",
      "Trial 19: 0.5\n",
      "Trial 20: 0.3\n"
     ]
    },
    {
     "data": {
      "text/plain": [
       "<matplotlib.axes._subplots.AxesSubplot at 0x7f96075603d0>"
      ]
     },
     "execution_count": 82,
     "metadata": {},
     "output_type": "execute_result"
    },
    {
     "data": {
      "image/png": "[encoded data removed]",
      "text/plain": [
       "<Figure size 432x288 with 1 Axes>"
      ]
     },
     "metadata": {},
     "output_type": "display_data"
    }
   ],
   "source": [
    "for _, i in enumerate(range(trials)):\n",
    "    parameterAmount = 0\n",
    "    for x in range(sampleSize):\n",
    "        selection = random.uniform(0,1)\n",
    "        if (selection <= parameterProbability):\n",
    "            parameterAmount += 1\n",
    "    probability = parameterAmount/float(sampleSize)\n",
    "    probabilities.append(probability)\n",
    "    print(\"Trial {}: {}\").format(i+1, probability)\n",
    "    \n",
    "sns.set_style('whitegrid')\n",
    "sns.kdeplot(np.array(probabilities))"
   ]
  }
 ],
 "metadata": {
  "kernelspec": {
   "display_name": "Python 3",
   "language": "python",
   "name": "python3"
  },
  "language_info": {
   "codemirror_mode": {
    "name": "ipython",
    "version": 2
   },
   "file_extension": ".py",
   "mimetype": "text/x-python",
   "name": "python",
   "nbconvert_exporter": "python",
   "pygments_lexer": "ipython2",
   "version": "2.7.15+"
  }
 },
 "nbformat": 4,
 "nbformat_minor": 2
}
